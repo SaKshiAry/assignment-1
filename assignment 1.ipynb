{
 "cells": [
  {
   "cell_type": "markdown",
   "id": "0c6586ab-fc41-46bb-bd95-0dd63c4cda33",
   "metadata": {},
   "source": [
    "### QUES. NO. 1"
   ]
  },
  {
   "cell_type": "code",
   "execution_count": 1,
   "id": "ae3a70ba-553c-4ad3-9c25-1840f3a1e210",
   "metadata": {},
   "outputs": [],
   "source": [
    "string = \" this is my class \"   ## here i have taken a string"
   ]
  },
  {
   "cell_type": "code",
   "execution_count": 2,
   "id": "7d0ca5aa-d5ff-48aa-90f3-4e65f039179a",
   "metadata": {},
   "outputs": [
    {
     "data": {
      "text/plain": [
       "' ssalc ym si siht '"
      ]
     },
     "execution_count": 2,
     "metadata": {},
     "output_type": "execute_result"
    }
   ],
   "source": [
    "string[::-1]    ## it will reverse the string elements"
   ]
  },
  {
   "cell_type": "code",
   "execution_count": 3,
   "id": "9ae7fcd5-438b-4503-bc7a-20ca914afc12",
   "metadata": {},
   "outputs": [],
   "source": [
    "## METHOD 2\n",
    "string1 = \"hello world\" ## we have taken another string"
   ]
  },
  {
   "cell_type": "code",
   "execution_count": 4,
   "id": "411b9d99-830f-4cc0-8e6c-164d8c968fdb",
   "metadata": {},
   "outputs": [
    {
     "data": {
      "text/plain": [
       "<reversed at 0x7f8a356ae6b0>"
      ]
     },
     "execution_count": 4,
     "metadata": {},
     "output_type": "execute_result"
    }
   ],
   "source": [
    "reversed(string1)   ## if we use 'reversed()' function it returns iterator object rather than a reversed string "
   ]
  },
  {
   "cell_type": "code",
   "execution_count": 5,
   "id": "da3cf5db-0973-4736-880b-a8bcf7cafbd7",
   "metadata": {},
   "outputs": [
    {
     "data": {
      "text/plain": [
       "'d l r o w   o l l e h'"
      ]
     },
     "execution_count": 5,
     "metadata": {},
     "output_type": "execute_result"
    }
   ],
   "source": [
    "' '.join(reversed(string1))    ## To convert reversed iterator to reversed string we use '.join()' method  and ' ' is used as an empty string where the join() method combines the value in single string"
   ]
  },
  {
   "cell_type": "markdown",
   "id": "c09da226-d9ef-463d-aa42-de53ccd875a9",
   "metadata": {},
   "source": [
    "### QUES. NO. 2"
   ]
  },
  {
   "cell_type": "code",
   "execution_count": 6,
   "id": "3a87a860-7fb1-49e3-9c94-76021e8ded23",
   "metadata": {},
   "outputs": [
    {
     "name": "stdout",
     "output_type": "stream",
     "text": [
      "('A', 'E', 'I', 'O', 'U', 'a', 'e', 'i', 'o', 'u')\n",
      " Its raining, open umbrella\n"
     ]
    }
   ],
   "source": [
    "## first we have created a string containing all the vowels\n",
    "\n",
    "VOWELS = ('A' , 'E' , 'I', 'O' , 'U', 'a', 'e', 'i', 'o', 'u')\n",
    "\n",
    "## Now another string is created to check the numver of vowels present in it\n",
    "\n",
    "string = (\" Its raining, open umbrella\") \n",
    "\n",
    "\n",
    "print(VOWELS)\n",
    "print(string)"
   ]
  },
  {
   "cell_type": "code",
   "execution_count": 7,
   "id": "71bdea0e-782d-40dd-9c09-b1753205b33f",
   "metadata": {},
   "outputs": [
    {
     "name": "stdout",
     "output_type": "stream",
     "text": [
      "The number of vowels are: 9\n"
     ]
    }
   ],
   "source": [
    "# lets initialize variable vowel_count = 0\n",
    "\n",
    "vowel_count = 0\n",
    "\n",
    "for char in string:                 # iterate through each character 'char' in string\n",
    "    \n",
    "    if char in VOWELS:              # if 'char' is a vowel\n",
    "       \n",
    "        vowel_count += 1            # increment in 'vowel_count' by 1 is done\n",
    "\n",
    "print ( \"The number of vowels are:\", vowel_count) "
   ]
  },
  {
   "cell_type": "markdown",
   "id": "b796a03b-783e-4ecd-945a-5820ed8b9843",
   "metadata": {},
   "source": [
    "### QUES. NO. 3"
   ]
  },
  {
   "cell_type": "markdown",
   "id": "7c515d81-b75e-489f-8c29-5a01c82eb061",
   "metadata": {},
   "source": [
    "#### PALINDROME :-\n",
    "It can be defined as a sequence of characters which can be read same from forward and backwards, ignoring the punctuation , spaces and capitalisation."
   ]
  },
  {
   "cell_type": "code",
   "execution_count": 8,
   "id": "e8d78f02-b3f6-4181-b7c4-d35791708f30",
   "metadata": {},
   "outputs": [
    {
     "name": "stdin",
     "output_type": "stream",
     "text": [
      " Enter the value a man , a plan\n"
     ]
    },
    {
     "name": "stdout",
     "output_type": "stream",
     "text": [
      " It's not a palindrome\n",
      " The reverse of string was:  nalp a , nam a\n"
     ]
    }
   ],
   "source": [
    "# create a input function for taking string input\n",
    "\n",
    "string = input( \" Enter the value\" )\n",
    "reverse = string[::-1]     # slicing will give reverse of string\n",
    "\n",
    "if (string == reverse):\n",
    "    print (\"It's a palindrome\")\n",
    "else:\n",
    "    print (\" It's not a palindrome\")\n",
    "\n",
    "print(\" The reverse of string was: \", reverse)"
   ]
  },
  {
   "cell_type": "code",
   "execution_count": 9,
   "id": "5c0f9faa-8440-4073-a859-eefac44513ad",
   "metadata": {},
   "outputs": [],
   "source": [
    "reverse = string[::-1]"
   ]
  },
  {
   "cell_type": "code",
   "execution_count": 10,
   "id": "b2d3439d-8064-425f-a3e6-3e68b823f889",
   "metadata": {},
   "outputs": [
    {
     "data": {
      "text/plain": [
       "'nalp a , nam a'"
      ]
     },
     "execution_count": 10,
     "metadata": {},
     "output_type": "execute_result"
    }
   ],
   "source": [
    "reverse   ## as we can see reverse != string"
   ]
  },
  {
   "cell_type": "code",
   "execution_count": 12,
   "id": "3eb40d71-dd2b-4d97-b8ca-c14527c81051",
   "metadata": {},
   "outputs": [
    {
     "name": "stdin",
     "output_type": "stream",
     "text": [
      " Enter the value madam\n"
     ]
    },
    {
     "name": "stdout",
     "output_type": "stream",
     "text": [
      "It's a palindrome\n",
      " The reverse of string was:  madam\n"
     ]
    }
   ],
   "source": [
    "# create a input function for taking string input\n",
    "\n",
    "string = input( \" Enter the value\" )\n",
    "reverse = string[::-1]     # slicing will give reverse of string\n",
    "\n",
    "if (string == reverse):\n",
    "    print (\"It's a palindrome\")\n",
    "else:\n",
    "    print (\" It's not a palindrome\")\n",
    "\n",
    "print(\" The reverse of string was: \", reverse)"
   ]
  },
  {
   "cell_type": "code",
   "execution_count": 13,
   "id": "99a52d3a-04b3-4628-9328-dd04a6ca9188",
   "metadata": {},
   "outputs": [
    {
     "name": "stdin",
     "output_type": "stream",
     "text": [
      " Enter the value racecar\n"
     ]
    },
    {
     "name": "stdout",
     "output_type": "stream",
     "text": [
      "It's a palindrome\n",
      " The reverse of string was:  racecar\n"
     ]
    }
   ],
   "source": [
    "# create a input function for taking string input\n",
    "\n",
    "string = input( \" Enter the value\" )\n",
    "reverse = string[::-1]     # slicing will give reverse of string\n",
    "\n",
    "if (string == reverse):\n",
    "    print (\"It's a palindrome\")\n",
    "else:\n",
    "    print (\" It's not a palindrome\")\n",
    "\n",
    "print(\" The reverse of string was: \", reverse)"
   ]
  },
  {
   "cell_type": "markdown",
   "id": "58d13b72-f6fe-4b90-a868-e473ebc15c88",
   "metadata": {},
   "source": [
    "### QUES. NO. 4"
   ]
  },
  {
   "cell_type": "markdown",
   "id": "ed01f0ac-f541-441a-aa77-8458b1fa4d05",
   "metadata": {},
   "source": [
    "#### ANAGRAMS :- \n",
    "     Anagrams are the words or phrases which are formed by rearranging the letters of another word or phrase in a different order. "
   ]
  },
  {
   "cell_type": "code",
   "execution_count": 14,
   "id": "610d6273-4b87-4e0f-946f-5790dbcf7437",
   "metadata": {},
   "outputs": [
    {
     "name": "stdin",
     "output_type": "stream",
     "text": [
      " Enter the First Word :  Debit card\n",
      " Enter the Second Word:  Bad credit\n"
     ]
    },
    {
     "name": "stdout",
     "output_type": "stream",
     "text": [
      "Yes , the strings are anagrams of each other\n"
     ]
    }
   ],
   "source": [
    "string1 = input (\" Enter the First Word : \")\n",
    "string2 = input (\" Enter the Second Word: \")\n",
    "\n",
    "# First we will try to replace all the \"  \" with \"\" the we will lowercase the words\n",
    "\n",
    "word1 = string1.replace(\" \" , \"\").lower()\n",
    "word2 = string2.replace(\" \" , \"\").lower()\n",
    "\n",
    "# Now we will sort both the strings and apply the condition\n",
    "\n",
    "if sorted(word1) == sorted(word2):\n",
    "    print( \"Yes , the strings are anagrams of each other\" )\n",
    "\n",
    "else:\n",
    "    print( \" No , the strings are not anagrams\" )"
   ]
  },
  {
   "cell_type": "code",
   "execution_count": 15,
   "id": "c786b9fa-5a49-4c65-b061-a8b2658a9a87",
   "metadata": {},
   "outputs": [
    {
     "name": "stdin",
     "output_type": "stream",
     "text": [
      " Enter the First Word :  apple \n",
      " Enter the Second Word:  banana\n"
     ]
    },
    {
     "name": "stdout",
     "output_type": "stream",
     "text": [
      " No , the strings are not anagrams\n"
     ]
    }
   ],
   "source": [
    "string1 = input (\" Enter the First Word : \")\n",
    "string2 = input (\" Enter the Second Word: \")\n",
    "\n",
    "# First we will try to replace all the \"  \" with \"\" the we will lowercase the words\n",
    "\n",
    "word1 = string1.replace(\" \" , \"\").lower()\n",
    "word2 = string2.replace(\" \" , \"\").lower()\n",
    "\n",
    "# Now we will sort both the strings and apply the condition\n",
    "\n",
    "if sorted(word1) == sorted(word2):\n",
    "    print( \"Yes , the strings are anagrams of each other\" )\n",
    "\n",
    "else:\n",
    "    print( \" No , the strings are not anagrams\" )"
   ]
  },
  {
   "cell_type": "markdown",
   "id": "a083900d-b7a0-453d-a8b8-db3f9b55d11b",
   "metadata": {},
   "source": [
    "### QUES.NO. 5"
   ]
  },
  {
   "cell_type": "code",
   "execution_count": 16,
   "id": "4978f5f2-f6d5-472f-8be7-1bf3adaa7692",
   "metadata": {},
   "outputs": [
    {
     "name": "stdin",
     "output_type": "stream",
     "text": [
      " Enter the string :  substring in string\n",
      " Enter the substring :  in\n"
     ]
    },
    {
     "name": "stdout",
     "output_type": "stream",
     "text": [
      " Occurances of 'in' in 'substring in string' : 3\n"
     ]
    }
   ],
   "source": [
    "# First we will take input of string and substring\n",
    "\n",
    "string = input ( \" Enter the string : \" )\n",
    "substring = input ( \" Enter the substring : \" )\n",
    "\n",
    "# We will use count function to count how many times substring occured in string\n",
    "\n",
    "count_substring = string.count(substring)\n",
    "\n",
    "print( f\" Occurances of '{substring}' in '{string}' : {count_substring}\")"
   ]
  },
  {
   "cell_type": "code",
   "execution_count": 17,
   "id": "10e65603-04a2-41fb-a7c8-04774d4934d4",
   "metadata": {},
   "outputs": [
    {
     "name": "stdin",
     "output_type": "stream",
     "text": [
      " Enter the string :  cars got scars\n",
      " Enter the substring :  car\n"
     ]
    },
    {
     "name": "stdout",
     "output_type": "stream",
     "text": [
      " Occurances of 'car' in 'cars got scars' : 2\n"
     ]
    }
   ],
   "source": [
    "# First we will take input of string and substring\n",
    "\n",
    "string = input ( \" Enter the string : \" )\n",
    "substring = input ( \" Enter the substring : \" )\n",
    "\n",
    "# We will use count function to count how many times substring occured in string\n",
    "\n",
    "count_substring = string.count(substring)\n",
    "\n",
    "print( f\" Occurances of '{substring}' in '{string}' : {count_substring}\")"
   ]
  },
  {
   "cell_type": "markdown",
   "id": "04bf0828-a8e9-4d7c-b596-23a8926a9768",
   "metadata": {},
   "source": [
    "### QUES. NO. 6"
   ]
  },
  {
   "cell_type": "code",
   "execution_count": 18,
   "id": "d3084dc2-c474-48bf-a616-96cd44dfbb68",
   "metadata": {},
   "outputs": [
    {
     "name": "stdin",
     "output_type": "stream",
     "text": [
      " Enter the string value  heenddoinggreeting\n"
     ]
    },
    {
     "name": "stdout",
     "output_type": "stream",
     "text": [
      " h1 e2 n1 d2 o1 i1 n1 g2 r1 e2 t1 i1 n1 g1\n"
     ]
    }
   ],
   "source": [
    "# We will take input of string\n",
    "\n",
    "STRING = input ( \" Enter the string value \" )\n",
    "\n",
    "ch = STRING[0]   ## first we will take character as 'ch' and of index [0] of string\n",
    "\n",
    "count = 0         ## we will intialize the count from 0\n",
    "\n",
    "result = \"\"        ## we have taken result  blank as initial\n",
    "\n",
    "STRING = STRING + \" \"   ## we have taken \" \" so that it can take last character also\n",
    "\n",
    "for i in STRING:\n",
    "    if i == ch:\n",
    "        count += 1\n",
    "    else:\n",
    "        result = result + \" \" + str(ch) + str(count)  ## for concatenation we coverted int into str\n",
    "        ch = i                                    ## updation of 'ch' value\n",
    "        count = 1\n",
    "print(result)"
   ]
  },
  {
   "cell_type": "markdown",
   "id": "8d98c922-0a4e-4163-b38b-b92e35535180",
   "metadata": {},
   "source": [
    "### QUES NO. 7"
   ]
  },
  {
   "cell_type": "code",
   "execution_count": 19,
   "id": "49d043cd-b3b3-4a18-837e-ff949b2bcbc3",
   "metadata": {},
   "outputs": [
    {
     "name": "stdin",
     "output_type": "stream",
     "text": [
      "Enter the string value pw skills\n"
     ]
    },
    {
     "name": "stdout",
     "output_type": "stream",
     "text": [
      " Not all characters in string are unique\n"
     ]
    }
   ],
   "source": [
    "## EXAMPLE 1\n",
    "string= input(\"Enter the string value\")\n",
    "\n",
    "is_unique = True      ## raised a flag of is_unique = True\n",
    "\n",
    "for i in string:                 \n",
    "    if string.count(i) > 1:          # raised condition if number of character >1\n",
    "        is_unique = False            # if repeated then is_unique = False\n",
    "        break                        # exit of loop\n",
    "\n",
    "if is_unique:\n",
    "    print(\" All the characters in string are unique\")\n",
    "else:\n",
    "    print(\" Not all characters in string are unique\")"
   ]
  },
  {
   "cell_type": "code",
   "execution_count": 20,
   "id": "e932c801-eb08-4caa-a773-7abc4c5be118",
   "metadata": {},
   "outputs": [
    {
     "name": "stdin",
     "output_type": "stream",
     "text": [
      "Enter the string value wonderful\n"
     ]
    },
    {
     "name": "stdout",
     "output_type": "stream",
     "text": [
      " All the characters in string are unique\n"
     ]
    }
   ],
   "source": [
    "# EXAMPLE 2\n",
    "string= input(\"Enter the string value\")\n",
    "\n",
    "is_unique = True     \n",
    "\n",
    "for i in string:                 \n",
    "    if string.count(i) > 1:         \n",
    "        is_unique = False           \n",
    "        break                        \n",
    "\n",
    "if is_unique:\n",
    "    print(\" All the characters in string are unique\")\n",
    "else:\n",
    "    print(\" Not all characters in string are unique\")"
   ]
  },
  {
   "cell_type": "markdown",
   "id": "b23435f5-72b2-47f3-bdc1-929503ada456",
   "metadata": {},
   "source": [
    "### QUES. NO. 8"
   ]
  },
  {
   "cell_type": "code",
   "execution_count": 21,
   "id": "1a811ab9-3576-4bed-80fb-08458469e9ba",
   "metadata": {},
   "outputs": [
    {
     "data": {
      "text/plain": [
       "' ITS MY FIRST ASSIGNMENT '"
      ]
     },
     "execution_count": 21,
     "metadata": {},
     "output_type": "execute_result"
    }
   ],
   "source": [
    "string = \" Its my first Assignment \"\n",
    "\n",
    "# To convert string in uppercase we will use .upper method\n",
    "\n",
    "string1 = string.upper()\n",
    "\n",
    "string1"
   ]
  },
  {
   "cell_type": "code",
   "execution_count": 22,
   "id": "50f8c1b8-4ee0-479d-ab5c-f75210d1e7d0",
   "metadata": {},
   "outputs": [
    {
     "data": {
      "text/plain": [
       "' i am very happy to tell this '"
      ]
     },
     "execution_count": 22,
     "metadata": {},
     "output_type": "execute_result"
    }
   ],
   "source": [
    "string = \" I am Very Happy to tell This \"\n",
    "\n",
    "# To convert string in lowercase we will use .lower method\n",
    "\n",
    "string1 = string.lower()\n",
    "\n",
    "string1"
   ]
  },
  {
   "cell_type": "markdown",
   "id": "2da9298a-1bcf-4e4e-a36d-b8fa81e80786",
   "metadata": {},
   "source": [
    "### QUES. NO. 9"
   ]
  },
  {
   "cell_type": "code",
   "execution_count": 23,
   "id": "45b2c551-eda8-4820-bdd3-462386efc437",
   "metadata": {},
   "outputs": [
    {
     "name": "stdout",
     "output_type": "stream",
     "text": [
      "the count of words in string are : 7\n"
     ]
    }
   ],
   "source": [
    "string = \" Hey here i will count the words \"\n",
    "\n",
    "split_string = string.split()     ## split of string helps to make each word as an unique element\n",
    "\n",
    "print(f\"the count of words in string are : {len(split_string)}\")"
   ]
  },
  {
   "cell_type": "markdown",
   "id": "5902f2ae-f875-4795-a25e-83cd6d71ee4b",
   "metadata": {},
   "source": [
    "### QUES. NO. 10"
   ]
  },
  {
   "cell_type": "code",
   "execution_count": 24,
   "id": "bfb63e5e-85b7-42b6-a49e-06e10999dc0c",
   "metadata": {},
   "outputs": [
    {
     "name": "stdout",
     "output_type": "stream",
     "text": [
      "hello world  how are you all \n"
     ]
    }
   ],
   "source": [
    "# METHOD 1\n",
    "\n",
    "str1 = \"hello world \"\n",
    "str2 = \" how are you all \"\n",
    "\n",
    "print(f\"{str1}{str2}\")"
   ]
  },
  {
   "cell_type": "code",
   "execution_count": 25,
   "id": "e7668bec-9e7b-48c4-bdb0-9f4e21f59cc1",
   "metadata": {},
   "outputs": [
    {
     "data": {
      "text/plain": [
       "str"
      ]
     },
     "execution_count": 25,
     "metadata": {},
     "output_type": "execute_result"
    }
   ],
   "source": [
    "type(f\"{str1}{str2}\")"
   ]
  },
  {
   "cell_type": "code",
   "execution_count": 26,
   "id": "dca9ba50-801d-4837-91e8-6c8da300a47b",
   "metadata": {},
   "outputs": [],
   "source": [
    "# METHOD 2\n",
    "\n",
    "str1 = \"hello world \"\n",
    "str2 = \" how are you all \"\n",
    "\n",
    "STR1 = str1.split()             # first we splitted the strings\n",
    "STR2 = str2.split()\n",
    "\n",
    "STR1.extend(STR2)              # then used the .extend to join them\n",
    "\n",
    "final_list = str(STR1)         # then did typecasting back to string"
   ]
  },
  {
   "cell_type": "code",
   "execution_count": 27,
   "id": "3ac75d3d-b149-4fdb-9636-2a82f1b7eac4",
   "metadata": {},
   "outputs": [
    {
     "data": {
      "text/plain": [
       "\"['hello', 'world', 'how', 'are', 'you', 'all']\""
      ]
     },
     "execution_count": 27,
     "metadata": {},
     "output_type": "execute_result"
    }
   ],
   "source": [
    "final_list"
   ]
  },
  {
   "cell_type": "code",
   "execution_count": 28,
   "id": "0f8715fb-4e82-4330-b59f-9efef63161aa",
   "metadata": {},
   "outputs": [
    {
     "data": {
      "text/plain": [
       "str"
      ]
     },
     "execution_count": 28,
     "metadata": {},
     "output_type": "execute_result"
    }
   ],
   "source": [
    "type(final_list)"
   ]
  },
  {
   "cell_type": "markdown",
   "id": "18305ba8-3159-461d-bfc9-7d4291cf6d5e",
   "metadata": {},
   "source": [
    "### QUES. NO. 11"
   ]
  },
  {
   "cell_type": "code",
   "execution_count": 29,
   "id": "ed2f1e51-2e32-4951-bb9d-5d167e8b95ce",
   "metadata": {},
   "outputs": [
    {
     "name": "stdin",
     "output_type": "stream",
     "text": [
      "Enter the value:  33\n"
     ]
    },
    {
     "name": "stdout",
     "output_type": "stream",
     "text": [
      "[11, 22, 44, 55, 66, 22, 78]\n"
     ]
    }
   ],
   "source": [
    "list1 = [ 11,22,33,44,55,66,22,33,33,78 ]\n",
    "\n",
    "value = int(input(\"Enter the value: \"))\n",
    "\n",
    "if value in list1:                      # first we will check whether the value is in list or not\n",
    "    while value in list1:               # value is entered in while loop so that it can remove all the value occuring in list\n",
    "        list1.remove(value)\n",
    "\n",
    "else:\n",
    "    print(\" value doesnt exist\")\n",
    "\n",
    "print(list1)"
   ]
  },
  {
   "cell_type": "markdown",
   "id": "39114d78-abe0-4d83-8dcc-7e77d9821366",
   "metadata": {},
   "source": [
    "### QUES.NO.12"
   ]
  },
  {
   "cell_type": "code",
   "execution_count": 30,
   "id": "b44e52e7-5f0f-4f04-8a95-1fc6366fbc75",
   "metadata": {},
   "outputs": [
    {
     "name": "stdout",
     "output_type": "stream",
     "text": [
      "[5, 6, 7, 9, 25, 45, 48, 52, 76, 85, 98]\n",
      " The second largest number is : 85\n"
     ]
    }
   ],
   "source": [
    "lst = [ 52,48,85,7,6,9,5,45,76,25,98 ]\n",
    "\n",
    "sorted_list = lst.sort()  ## FIRST SORTING IS DONE TO BRING THEM IN ASCENDING ORDER\n",
    "\n",
    "print(lst)                ## THEN INDEX IS CHOOSED\n",
    "\n",
    "print( f\" The second largest number is : {lst[-2]}\" )"
   ]
  },
  {
   "cell_type": "markdown",
   "id": "f66cb4a8-7189-4235-80d2-2db09cd00b3f",
   "metadata": {},
   "source": [
    "### QUES. NO. 13"
   ]
  },
  {
   "cell_type": "code",
   "execution_count": 31,
   "id": "c980e5a5-4697-4a0a-be56-0f187e22c3a3",
   "metadata": {},
   "outputs": [
    {
     "name": "stdout",
     "output_type": "stream",
     "text": [
      "{45: 3, 58: 2, 6: 1, 4: 1, 5: 1, 25: 1, 47: 1, 85: 1}\n"
     ]
    }
   ],
   "source": [
    "list1 = [45 , 58 , 58 , 6 , 4 , 5 , 45 ,25 , 47 , 85 , 45]\n",
    "\n",
    "## element and occurance of each element using dictionary comprehension\n",
    "my_dict = { element:list1.count(element) for element in list1}\n",
    "\n",
    "print(my_dict)\n",
    "    "
   ]
  },
  {
   "cell_type": "markdown",
   "id": "9e1166b1-b09e-4612-bb2a-7bb47f4073dc",
   "metadata": {},
   "source": [
    "### QUES. NO. 14"
   ]
  },
  {
   "cell_type": "code",
   "execution_count": 32,
   "id": "0f91a9e8-824a-4e20-8d9a-d98c6e32b9cd",
   "metadata": {},
   "outputs": [
    {
     "data": {
      "text/plain": [
       "['good', 'are', 96, 58, 'all', 95, 84, 54]"
      ]
     },
     "execution_count": 32,
     "metadata": {},
     "output_type": "execute_result"
    }
   ],
   "source": [
    "LST1 = [ 54 , 84 , 95 , \"all\" , 58 , 96 , \"are\" , \"good\" ]\n",
    "\n",
    "LST1[::-1]                 ## REVERSED THE LIST "
   ]
  },
  {
   "cell_type": "markdown",
   "id": "f18da3d2-f710-4ccd-aabd-650cab70e99d",
   "metadata": {},
   "source": [
    "### QUES.NO. 15"
   ]
  },
  {
   "cell_type": "code",
   "execution_count": 33,
   "id": "4ec6b8d9-4e48-4e9a-b93f-f7575077b698",
   "metadata": {},
   "outputs": [
    {
     "name": "stdout",
     "output_type": "stream",
     "text": [
      "[45, 120, 510, 51, 85, 96, 875]\n"
     ]
    }
   ],
   "source": [
    "#METHOD 1\n",
    "\n",
    "lst = [ 45 , 120 , 510 , 45 , 51 , 85 , 96 , 510 , 875]\n",
    "\n",
    "new_list = []          # created a blank list for getting unique elements\n",
    "\n",
    "for i in lst:\n",
    "    if i not in new_list:                  # if the i element is not in new_list\n",
    "        new_list.append(i)                 #it will add it to the new_list and again iterate\n",
    "        \n",
    "        \n",
    "print(new_list)                            # final list with unique elements\n",
    "        "
   ]
  },
  {
   "cell_type": "code",
   "execution_count": 34,
   "id": "0d3ec0e7-6c78-48ff-8664-e30cc88c1eb7",
   "metadata": {},
   "outputs": [
    {
     "data": {
      "text/plain": [
       "[45, 120, 510, 51, 85, 96, 875]"
      ]
     },
     "execution_count": 34,
     "metadata": {},
     "output_type": "execute_result"
    }
   ],
   "source": [
    "#METHOD 2\n",
    " \n",
    "lst = [ 45 , 120 , 510 , 45 , 51 , 85 , 96 , 510 , 875]\n",
    "\n",
    "# WE used dict.fromkeys as dictionary contains unique keys and then we did typecasting to convert the keys into list\n",
    "NEW_LIST = list(dict.fromkeys(lst))\n",
    "\n",
    "NEW_LIST"
   ]
  },
  {
   "cell_type": "markdown",
   "id": "72b05f09-a588-419b-bb20-9552edcd4390",
   "metadata": {},
   "source": [
    "### QUES.NO. 16"
   ]
  },
  {
   "cell_type": "code",
   "execution_count": 35,
   "id": "546bf0ee-cfc7-46d4-92ca-38f0e8196122",
   "metadata": {},
   "outputs": [
    {
     "name": "stdout",
     "output_type": "stream",
     "text": [
      "list is not sorted\n"
     ]
    }
   ],
   "source": [
    "\n",
    "# METHOD 1\n",
    "\n",
    "\n",
    "lst = [ 45 , 120 , 510 , 51 , 85 , 96 , 875]\n",
    "\n",
    "if sorted(lst) != lst:\n",
    "    print(\"list is not sorted\")\n",
    "\n",
    "else:\n",
    "    print(\"list is sorted\")"
   ]
  },
  {
   "cell_type": "code",
   "execution_count": 36,
   "id": "ae983e85-9c40-41ff-862c-08e0c01f7cda",
   "metadata": {},
   "outputs": [
    {
     "name": "stdout",
     "output_type": "stream",
     "text": [
      " List is not sorted \n"
     ]
    }
   ],
   "source": [
    "\n",
    "## METHOD 2\n",
    "\n",
    "# for ascending order\n",
    "\n",
    "lst = [ 45 , 120 , 510 , 51 , 85 , 96 , 875]\n",
    "\n",
    "is_sorted = True                     ## raised a flag of true value\n",
    "\n",
    "for i in range(len(lst)-1):\n",
    "    if lst[i] >= lst[i+1]:         ## checking if the element of ith index is >= element of (i+1)th index\n",
    "        is_sorted = False\n",
    "        break\n",
    "        \n",
    "if is_sorted == True :\n",
    "    print(\"List is sorted\")\n",
    "\n",
    "else:\n",
    "    print(\" List is not sorted \")\n",
    "        "
   ]
  },
  {
   "cell_type": "code",
   "execution_count": 37,
   "id": "924df6b3-1a04-4fab-8448-bfea5b1c9cf1",
   "metadata": {},
   "outputs": [
    {
     "name": "stdout",
     "output_type": "stream",
     "text": [
      "List is sorted\n"
     ]
    }
   ],
   "source": [
    "# for descending order\n",
    "\n",
    "lst = [ 890 , 789 , 123, 43 , 21, 20, 12]\n",
    "\n",
    "is_sorted = True                     ## raised a flag of true value\n",
    "\n",
    "for i in range(len(lst)-1):\n",
    "    if lst[i] <= lst[i+1]:         ## checking if the element of ith index is <= element of (i+1)th index\n",
    "        is_sorted = False\n",
    "        break\n",
    "        \n",
    "if is_sorted == True :\n",
    "    print(\"List is sorted\")\n",
    "\n",
    "else:\n",
    "    print(\" List is not sorted \")\n",
    "        "
   ]
  },
  {
   "cell_type": "markdown",
   "id": "08c4a629-93a0-435e-a426-28faa81f3892",
   "metadata": {},
   "source": [
    "### QUES.NO.17"
   ]
  },
  {
   "cell_type": "code",
   "execution_count": 38,
   "id": "63329d60-ea87-4adc-a67c-6d4e817b1878",
   "metadata": {},
   "outputs": [
    {
     "data": {
      "text/plain": [
       "[21, 23, 32, 43, 45, 51, 65, 85, 96, 120, 510, 567, 875]"
      ]
     },
     "execution_count": 38,
     "metadata": {},
     "output_type": "execute_result"
    }
   ],
   "source": [
    "\n",
    "## we implied sorted function \n",
    "\n",
    "lst = [ 45 , 120 , 510 , 51 , 85 , 96 , 875]    \n",
    "lst1 = [ 23 , 65 , 21 , 32 , 567 , 43 ]\n",
    "\n",
    "#sorted lst and lst1 and then again sorted \n",
    "new_list = sorted(sorted(lst) + sorted(lst1))\n",
    "\n",
    "new_list"
   ]
  },
  {
   "cell_type": "markdown",
   "id": "cf44ecd7-d16f-4731-9db2-958c829c90b7",
   "metadata": {},
   "source": [
    "### QUES.NO. 18"
   ]
  },
  {
   "cell_type": "code",
   "execution_count": 39,
   "id": "6b7e358a-3556-4664-8539-10d6b69dd31a",
   "metadata": {},
   "outputs": [
    {
     "name": "stdout",
     "output_type": "stream",
     "text": [
      "[510, 51, 85, 875]\n"
     ]
    }
   ],
   "source": [
    "lst = [ 45 , 120 , 510 , 51 , 85 , 96 , 875]\n",
    "lst1 = [ 45 , 120 , 65 , 21 , 96 , 567 , 43 ]\n",
    "\n",
    "intrsct_list = []\n",
    "\n",
    "for i in lst:\n",
    "    if i not in lst1:\n",
    "        intrsct_list.append(i)\n",
    "\n",
    "print(intrsct_list)"
   ]
  },
  {
   "cell_type": "markdown",
   "id": "52ed688f-3b83-464b-b3b9-325b71ae4b34",
   "metadata": {},
   "source": [
    "### QUES.NO. 19"
   ]
  },
  {
   "cell_type": "code",
   "execution_count": 40,
   "id": "493af180-fb67-4648-b163-4482840122cc",
   "metadata": {},
   "outputs": [
    {
     "name": "stdout",
     "output_type": "stream",
     "text": [
      "[45, 120, 510, 51, 85, 96, 875, 32, 23, 65, 21, 567, 43]\n"
     ]
    }
   ],
   "source": [
    "## UNION OF TWO LISTS \n",
    "\n",
    "lst = [ 45 , 120 , 510 , 51 , 85 , 96 , 875 , 32 ]\n",
    "lst1 = [ 23 , 65 , 21 , 32 , 567 , 43 , 96 , 45 ]\n",
    "\n",
    "union_list = []\n",
    "\n",
    "for i in lst:\n",
    "    if i not in union_list:        ## checking the elements of  first list and if not present adding in union_list\n",
    "        union_list.append(i)\n",
    "\n",
    "for j in lst1:\n",
    "    if j not in union_list:\n",
    "             union_list.append(j)    ##checking the elements of second list and if not present adding in union_list\n",
    "print(union_list)"
   ]
  },
  {
   "cell_type": "markdown",
   "id": "ccbc8400-16f3-413f-b3d2-4eadebb91d5f",
   "metadata": {},
   "source": [
    "### QUES. NO. 20"
   ]
  },
  {
   "cell_type": "code",
   "execution_count": 41,
   "id": "08abb03f-9c83-4e2c-92a4-ff09c8611245",
   "metadata": {},
   "outputs": [
    {
     "data": {
      "text/plain": [
       "[32, 65, 96, 43, 45, 23, 21, 567]"
      ]
     },
     "execution_count": 41,
     "metadata": {},
     "output_type": "execute_result"
    }
   ],
   "source": [
    "lst1 = [ 23 , 65 , 21 , 32 , 567 , 43 , 96 , 45 ]\n",
    "\n",
    "## since sets have unordered elements \n",
    "shuffled_list = list(set(lst1))\n",
    "\n",
    "shuffled_list"
   ]
  },
  {
   "cell_type": "markdown",
   "id": "72200d90-997c-4e8e-8f50-7d53abc82bf2",
   "metadata": {},
   "source": [
    "### QUES.NO. 21"
   ]
  },
  {
   "cell_type": "code",
   "execution_count": 42,
   "id": "83eee298-15d4-47b2-9015-b652a5cb4f4f",
   "metadata": {},
   "outputs": [
    {
     "name": "stdout",
     "output_type": "stream",
     "text": [
      "(34, [23, 45, 54], 'hello')\n"
     ]
    }
   ],
   "source": [
    "\n",
    "tup1 = ( 1 , 85 , 23 ,34, 345 , 566 , \"tuple\" , [23,45,54] , \"hello\")\n",
    "tup2 = ( \"wonder\" ,  [23,45,54] , 34 , 45 , 783 , \"hello\" , 489 )\n",
    "\n",
    "common_elements = []\n",
    "\n",
    "for i in tup1:\n",
    "        if i in tup2:                     ## getting i element should be in both tuples\n",
    "            common_elements.append(i)\n",
    "            \n",
    "common_tuple = tuple(common_elements)    ## converting list to tuple\n",
    "\n",
    "print(common_tuple)\n",
    "           \n",
    "            "
   ]
  },
  {
   "cell_type": "markdown",
   "id": "86e9a24a-94bf-4f41-950b-aa1d1e1b005c",
   "metadata": {},
   "source": [
    "### QUES.NO.22"
   ]
  },
  {
   "cell_type": "code",
   "execution_count": 43,
   "id": "fca9d578-31c4-424d-b009-51c02c79924b",
   "metadata": {},
   "outputs": [
    {
     "name": "stdin",
     "output_type": "stream",
     "text": [
      "Enter the values in set 1 :  orange apple 32 56 23\n",
      "Enter the values in set 2 :  apple banana 23 56 90\n"
     ]
    },
    {
     "data": {
      "text/plain": [
       "{'23', '56', 'apple'}"
      ]
     },
     "execution_count": 43,
     "metadata": {},
     "output_type": "execute_result"
    }
   ],
   "source": [
    "set1 = input(\"Enter the values in set 1 : \")   ##take input values for set\n",
    "set2 = input(\"Enter the values in set 2 : \")\n",
    "\n",
    "new_set1 = set(set1.split())        ## conversion in sets by splitting\n",
    "new_set2 = set(set2.split())\n",
    "\n",
    "new_set1.intersection(new_set2)"
   ]
  },
  {
   "cell_type": "markdown",
   "id": "c8aa7c8a-3629-4f38-81d4-73ed26bfdc78",
   "metadata": {},
   "source": [
    "### QUES.NO. 23"
   ]
  },
  {
   "cell_type": "code",
   "execution_count": 44,
   "id": "8c335181-b4ac-467b-bf51-145c8bcaf601",
   "metadata": {},
   "outputs": [
    {
     "name": "stdout",
     "output_type": "stream",
     "text": [
      "('amit', 'sonam', 'rajesh', 'krishna', 'delhi', 'mumbai', 'lucknow', 'jaipur', 'banaras') "
     ]
    }
   ],
   "source": [
    "name = ( \"amit\" , \"sonam\" , \"rajesh\" , \"krishna\" )\n",
    "\n",
    "city = ( \"delhi\" , \"mumbai\" , \"lucknow\" , \"jaipur\" , \"banaras\")\n",
    "\n",
    "name_city = name + city\n",
    "\n",
    "print (name_city , end=\" \")"
   ]
  },
  {
   "cell_type": "markdown",
   "id": "bd2d5003-77a8-47c1-8af8-d67a366f5481",
   "metadata": {},
   "source": [
    "### QUES.NO. 24"
   ]
  },
  {
   "cell_type": "code",
   "execution_count": null,
   "id": "d3845101-3ca0-4e66-a0b4-37c48a87363d",
   "metadata": {},
   "outputs": [
    {
     "name": "stdin",
     "output_type": "stream",
     "text": [
      " Enter the value in strings for set1 :  hello its siri here\n",
      " Enter the value in strings for set2 :  hii siri how are u\n"
     ]
    },
    {
     "name": "stdout",
     "output_type": "stream",
     "text": [
      " Elements in first set not in second are : {'its', 'hello', 'here'}\n"
     ]
    }
   ],
   "source": [
    "set1 = input(\" Enter the value in strings for set1 : \") ## input as string\n",
    "set2 = input(\" Enter the value in strings for set2 : \")\n",
    "\n",
    "str_set1 = set(set1.split())      ## splitting string input and then converting into set\n",
    "str_set2 = set(set2.split())\n",
    "\n",
    "difference_set = str_set1.difference(str_set2)  ## difference function is used\n",
    "\n",
    "print(f\" Elements in first set not in second are : {difference_set}\" )"
   ]
  },
  {
   "cell_type": "markdown",
   "id": "e0ac74ad-e904-4f69-8810-443c02350c78",
   "metadata": {},
   "source": [
    "### QUES.NO. 25"
   ]
  },
  {
   "cell_type": "code",
   "execution_count": null,
   "id": "8fdfeb13-c58c-4931-b29c-320684acd03c",
   "metadata": {},
   "outputs": [
    {
     "name": "stdout",
     "output_type": "stream",
     "text": [
      "Selected elements within the range: (3, 4, 5, 6)\n"
     ]
    }
   ],
   "source": [
    "def elem_in_range(tupl, start_index, end_index):\n",
    "    \n",
    "    # Check if start_index and end_index are valid\n",
    "    \n",
    "    if start_index < 0 or end_index >= len(tupl) or start_index > end_index:\n",
    "        return \"Invalid indices\"\n",
    "    \n",
    "    # Select elements within the specified range\n",
    "    \n",
    "    selected_elements = tupl[start_index:end_index+1]\n",
    "    return tuple(selected_elements)\n",
    "\n",
    "# Example usage:\n",
    "\n",
    "original_tuple = (1, 2, 3, 4, 5, 6, 7, 8, 9)\n",
    "start_index = 2\n",
    "end_index = 5\n",
    "result = elem_in_range(original_tuple, start_index, end_index)\n",
    "\n",
    "print(\"Selected elements within the range:\", result)\n"
   ]
  },
  {
   "cell_type": "markdown",
   "id": "df73585f-b323-404c-85fc-040cf9477473",
   "metadata": {},
   "source": [
    "### QUES.NO. 26"
   ]
  },
  {
   "cell_type": "code",
   "execution_count": 48,
   "id": "c872f829-9362-4ce3-bba1-0855c037fa98",
   "metadata": {},
   "outputs": [
    {
     "name": "stdin",
     "output_type": "stream",
     "text": [
      " Enter the values in character :  a b d y f h\n",
      " Enter the values in character :  d u h j k l\n"
     ]
    },
    {
     "name": "stdout",
     "output_type": "stream",
     "text": [
      "The union of sets is : {'y', 'k', 'd', 'b', 'f', 'h', 'a', 'l', 'j', 'u'}\n"
     ]
    }
   ],
   "source": [
    "ch_set1 = input(\" Enter the values in character : \")\n",
    "ch_set2 = input(\" Enter the values in character : \")\n",
    "\n",
    "set1 = set(ch_set1.split())\n",
    "set2 = set(ch_set2.split())\n",
    "\n",
    "print(f\"The union of sets is : {set1.union(set2)}\")"
   ]
  },
  {
   "cell_type": "markdown",
   "id": "132fe558-3f9c-43ee-a58b-b9194d86d472",
   "metadata": {},
   "source": [
    "### QUES.NO. 27"
   ]
  },
  {
   "cell_type": "code",
   "execution_count": 49,
   "id": "8ab14fe2-1b8a-404c-82f5-16dabd598e46",
   "metadata": {},
   "outputs": [
    {
     "name": "stdout",
     "output_type": "stream",
     "text": [
      " Maximum Value : 1021\n",
      " Minimum Value : 10\n"
     ]
    }
   ],
   "source": [
    "tuple2 = (54 , 95 , 21 , 99 , 100 , 1021 , 54 , 10 , 14 )\n",
    "\n",
    "print(f\" Maximum Value : {max(tuple2)}\")\n",
    "print(f\" Minimum Value : {min(tuple2)}\")"
   ]
  },
  {
   "cell_type": "markdown",
   "id": "ac54e83b-19af-4b04-a8a3-b0455948dca4",
   "metadata": {},
   "source": [
    "### QUES.NO. 28"
   ]
  },
  {
   "cell_type": "code",
   "execution_count": 50,
   "id": "8660d21a-fefe-42df-91fc-b85789bdd17d",
   "metadata": {},
   "outputs": [
    {
     "name": "stdout",
     "output_type": "stream",
     "text": [
      " The union is : {1, 2, 3, 67, 4, 6, 5, 8, 645, 65, 35, 45, 52, 23} \n",
      " The intersection is : {1, 3, 4, 6} \n",
      " The difference is : {2, 67, 5, 645, 8, 45} \n"
     ]
    }
   ],
   "source": [
    "set1 = { 1 , 2 , 3 , 45 , 67 , 8 , 6 , 4 , 3 , 5 , 645 ,6 , 5 , 6 }\n",
    "set2 = { 23 , 35 , 6 , 65 , 6 , 6 , 4 , 3 , 4 , 52 , 1 , 3 }\n",
    "\n",
    "print(f\" The union is : {set1.union(set2)} \")\n",
    "\n",
    "print(f\" The intersection is : {set1.intersection(set2)} \")\n",
    "\n",
    "print(f\" The difference is : {set1.difference(set2)} \")"
   ]
  },
  {
   "cell_type": "markdown",
   "id": "8983628a-a5d0-4f0a-b777-041a8af2df78",
   "metadata": {},
   "source": [
    "### QUES. NO. 29"
   ]
  },
  {
   "cell_type": "code",
   "execution_count": 51,
   "id": "60ab8008-eb33-4820-95d1-669feb957b19",
   "metadata": {},
   "outputs": [
    {
     "name": "stdin",
     "output_type": "stream",
     "text": [
      "Please enter the element :  65\n"
     ]
    },
    {
     "name": "stdout",
     "output_type": "stream",
     "text": [
      "The count of element is : 2 \n"
     ]
    }
   ],
   "source": [
    "tuple1 = ( 1 , 2 , 3 , 4 , 5 , 6 , 78 , 5 , 54 , 65 , 65 , 32 )   \n",
    "\n",
    "element = int(input(\"Please enter the element : \")) \n",
    "\n",
    "print(f\"The count of element is : {tuple1.count(element)} \")"
   ]
  },
  {
   "cell_type": "code",
   "execution_count": 52,
   "id": "3c4151c3-3a6d-4432-9d71-0581d27267ee",
   "metadata": {},
   "outputs": [
    {
     "name": "stdin",
     "output_type": "stream",
     "text": [
      "Please enter the element :  3\n"
     ]
    },
    {
     "name": "stdout",
     "output_type": "stream",
     "text": [
      "The count of element is : 1 \n"
     ]
    }
   ],
   "source": [
    "tuple1 = ( 1 , 2 , 3 , 4 , 5 , 6 , 78 , 5 , 54 , 65 , 65 , 32 )   \n",
    "\n",
    "element = int(input(\"Please enter the element : \")) \n",
    "\n",
    "print(f\"The count of element is : {tuple1.count(element)} \")"
   ]
  },
  {
   "cell_type": "markdown",
   "id": "f5c9a75e-8adf-439a-89ee-78bd7a967fb0",
   "metadata": {},
   "source": [
    "### QUES.NO. 30"
   ]
  },
  {
   "cell_type": "code",
   "execution_count": 53,
   "id": "b9bd10d5-1a6c-41cb-a5e9-cdd379038997",
   "metadata": {},
   "outputs": [
    {
     "name": "stdin",
     "output_type": "stream",
     "text": [
      " Enter the value in strings for set1 :  siri how r u\n",
      " Enter the value in strings for set2 :  am fine how r u\n"
     ]
    },
    {
     "name": "stdout",
     "output_type": "stream",
     "text": [
      " The symmetric difference of these sets is : {'am', 'fine', 'siri'} \n"
     ]
    }
   ],
   "source": [
    "set1 = input(\" Enter the value in strings for set1 : \") ## input as string\n",
    "set2 = input(\" Enter the value in strings for set2 : \")\n",
    "\n",
    "str_set1 = set(set1.split())      ## splitting string input and then converting into set\n",
    "str_set2 = set(set2.split())\n",
    "\n",
    "symmetric_difference = str_set1.symmetric_difference(str_set2)\n",
    "\n",
    "print(f\" The symmetric difference of these sets is : {symmetric_difference} \")"
   ]
  },
  {
   "cell_type": "markdown",
   "id": "b71ed7ab-5bf4-468d-a6c8-32009523a517",
   "metadata": {},
   "source": [
    "### QUES.NO. 31"
   ]
  },
  {
   "cell_type": "code",
   "execution_count": 54,
   "id": "b8ecc748-ffa0-4565-8f8a-6e00949487e8",
   "metadata": {},
   "outputs": [
    {
     "name": "stdout",
     "output_type": "stream",
     "text": [
      " The word frequency dictionary is : {'apple': 1, 'red': 3, 'colour': 2, 'cherry': 1, 'banaana': 1} \n"
     ]
    }
   ],
   "source": [
    "list1 = [ \"apple\" , \"red\" , \"colour\" , \"cherry\" , \"red\" , \"banaana\", \"colour\" , \"red\" ]\n",
    "\n",
    "\n",
    "dict_key = {}\n",
    "\n",
    "for element in list1:\n",
    "    if element in dict_key:\n",
    "        dict_key[element]  += 1\n",
    "    \n",
    "    else:\n",
    "        dict_key[element] = 1\n",
    "\n",
    "print(f\" The word frequency dictionary is : {dict_key} \")    \n"
   ]
  },
  {
   "cell_type": "markdown",
   "id": "8d6bb936-932e-475b-b891-90124904c363",
   "metadata": {},
   "source": [
    "###  QUES.NO. 32"
   ]
  },
  {
   "cell_type": "code",
   "execution_count": 55,
   "id": "a418995f-f094-4a5b-a51b-24f5b19f66a6",
   "metadata": {},
   "outputs": [
    {
     "name": "stdout",
     "output_type": "stream",
     "text": [
      "{'feb': 57, 'may': 31, 'jan': 61, 'march': 31, 'april': 30}\n"
     ]
    }
   ],
   "source": [
    "# Combine two dictionaries and adding values if the key are same\n",
    "\n",
    "dict1 = { \"jan\" : 31 , \"feb\" : 28 , \"march\" : 31 , \"april\" : 30}\n",
    "dict2 = { \"feb\" : 29 , \"may\" : 31 , \"jan\" :30 }\n",
    "\n",
    "for key in dict1.keys():             # initializing key from dict1\n",
    "    if key in dict2.keys():           # checking if same key is in dict2\n",
    "        \n",
    "        dict1[key] = dict1[key] + dict2[key]           # updating dict[1]\n",
    "        \n",
    "    dict2[key] = dict1[key]\n",
    "    \n",
    "print (dict2)"
   ]
  },
  {
   "cell_type": "markdown",
   "id": "075ccd5d-e06d-48ce-806e-2fa7dff78a71",
   "metadata": {},
   "source": [
    "### QUES.NO. 33"
   ]
  },
  {
   "cell_type": "code",
   "execution_count": 56,
   "id": "ff6da7c3-ee88-46fb-9473-9220105cd094",
   "metadata": {},
   "outputs": [
    {
     "name": "stdout",
     "output_type": "stream",
     "text": [
      "Result: New York\n"
     ]
    }
   ],
   "source": [
    "## Accessing through nested dictionary\n",
    "\n",
    "def access_nested_dict(dictionary, keys):\n",
    "    nested_dict = dictionary\n",
    "    for key in keys:                                                 \n",
    "        if isinstance(nested_dict, dict) and key in nested_dict:           ## isinstance is used to check whether the object belongs to the particular datatype or not\n",
    "            nested_dict = nested_dict[key]                                 ## if yes then returns True otherwise False\n",
    "        else:\n",
    "            return None\n",
    "    return nested_dict\n",
    "\n",
    "# Example dictionary\n",
    "my_dict = {'person': {'name': 'Alexa','age': 30 ,'address': {'city': 'New York','zip_code': '10001'}}}\n",
    "\n",
    "# List of keys to access nested value\n",
    "keys_to_access = ['person', 'address' , 'city']\n",
    "\n",
    "# Accessing the nested value\n",
    "result = access_nested_dict(my_dict, keys_to_access)\n",
    "\n",
    "# Printing the result\n",
    "print(\"Result:\", result)  \n"
   ]
  },
  {
   "cell_type": "code",
   "execution_count": 57,
   "id": "c8191440-8959-45bd-a269-f4b16b9078de",
   "metadata": {},
   "outputs": [
    {
     "name": "stdout",
     "output_type": "stream",
     "text": [
      "Result: {'city': 'New York', 'zip_code': '10001'}\n"
     ]
    }
   ],
   "source": [
    "## Accessing through nested dictionary\n",
    "\n",
    "def access_nested_dict(dictionary, keys):\n",
    "    nested_dict = dictionary\n",
    "    for key in keys:                                                 \n",
    "        if isinstance(nested_dict, dict) and key in nested_dict:           ## isinstance is used to check whether the object belongs to the particular datatype or not\n",
    "            nested_dict = nested_dict[key]                                 ## if yes then returns True otherwise False\n",
    "        else:\n",
    "            return None\n",
    "    return nested_dict\n",
    "\n",
    "# Example dictionary\n",
    "my_dict = {'person': {'name': 'Alexa','age': 30 ,'address': {'city': 'New York','zip_code': '10001'}}}\n",
    "\n",
    "# List of keys to access nested value\n",
    "keys_to_access = ['person', 'address']\n",
    "\n",
    "# Accessing the nested value\n",
    "result = access_nested_dict(my_dict, keys_to_access)\n",
    "\n",
    "# Printing the result\n",
    "print(\"Result:\", result)  \n"
   ]
  },
  {
   "cell_type": "markdown",
   "id": "d55cfdc0-5931-4112-904f-6b0708e4c7de",
   "metadata": {},
   "source": [
    "### QUES.NO.34"
   ]
  },
  {
   "cell_type": "code",
   "execution_count": 58,
   "id": "b3bf6a5c-ea13-4f29-9b62-b8be8ca6281b",
   "metadata": {},
   "outputs": [
    {
     "name": "stdout",
     "output_type": "stream",
     "text": [
      "{'e': 43, 'a': 54, 'r': 123, 't': 324, 'u': 345}\n"
     ]
    }
   ],
   "source": [
    "dictionary = {'a' : 54 , 'e' : 43 , 't' : 324 , 'r' : 123 , 'u' : 345}\n",
    "## sorting in ascending order on based of values\n",
    "asc_dictionary = dict( sorted(dictionary.items(), key=lambda x:x[1]))   ## here lambda is an anonymous function \n",
    "\n",
    "print(asc_dictionary)"
   ]
  },
  {
   "cell_type": "code",
   "execution_count": 59,
   "id": "dd2fa704-d6c9-4b37-be44-445434df74d9",
   "metadata": {},
   "outputs": [
    {
     "name": "stdout",
     "output_type": "stream",
     "text": [
      "{'o': 567, 't': 324, 'r': 234, 'a': 54, 'e': 43}\n"
     ]
    }
   ],
   "source": [
    "dictionary = {'a' : 54 , 'e' : 43 , 't' : 324 , 'r' : 234 , 'o' : 567}\n",
    "## sorted in descending order on based of values\n",
    "dsc_dictionary = dict( sorted(dictionary.items(),reverse= True, key=lambda x:x[1]))\n",
    "\n",
    "print(dsc_dictionary)"
   ]
  },
  {
   "cell_type": "markdown",
   "id": "aa266480-9ab9-479e-8f1a-d2221430a5d6",
   "metadata": {},
   "source": [
    "### QUES NO. 35"
   ]
  },
  {
   "cell_type": "code",
   "execution_count": 60,
   "id": "e3bec122-c750-4fd9-b5ba-5e481b032569",
   "metadata": {},
   "outputs": [
    {
     "name": "stdout",
     "output_type": "stream",
     "text": [
      "{1: ['a', 'c'], 2: ['b'], 3: ['d']}\n"
     ]
    }
   ],
   "source": [
    "def invert_dict(d):\n",
    "    inverted_dict = {value: [key for key, val in d.items() if val == value] for value in set(d.values())}\n",
    "    return inverted_dict\n",
    "\n",
    "# Example usage:\n",
    "original_dict = {'a': 1, 'b': 2, 'c': 1, 'd': 3}\n",
    "\n",
    "inverted_dict = invert_dict(original_dict)\n",
    "\n",
    "print(inverted_dict)\n"
   ]
  },
  {
   "cell_type": "code",
   "execution_count": null,
   "id": "b250b296-43d4-4028-9619-5286d02ac677",
   "metadata": {},
   "outputs": [],
   "source": []
  }
 ],
 "metadata": {
  "kernelspec": {
   "display_name": "Python 3 (ipykernel)",
   "language": "python",
   "name": "python3"
  },
  "language_info": {
   "codemirror_mode": {
    "name": "ipython",
    "version": 3
   },
   "file_extension": ".py",
   "mimetype": "text/x-python",
   "name": "python",
   "nbconvert_exporter": "python",
   "pygments_lexer": "ipython3",
   "version": "3.10.8"
  }
 },
 "nbformat": 4,
 "nbformat_minor": 5
}
